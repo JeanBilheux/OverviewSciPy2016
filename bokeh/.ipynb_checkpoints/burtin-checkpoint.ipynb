{
 "cells": [
  {
   "cell_type": "code",
   "execution_count": 1,
   "metadata": {
    "collapsed": false
   },
   "outputs": [],
   "source": [
    "from math import log, sqrt"
   ]
  },
  {
   "cell_type": "code",
   "execution_count": 2,
   "metadata": {
    "collapsed": false
   },
   "outputs": [],
   "source": [
    "import numpy as np\n",
    "import pandas as pd\n",
    "from six.moves import cStringIO as StringIO"
   ]
  },
  {
   "cell_type": "code",
   "execution_count": 3,
   "metadata": {
    "collapsed": false
   },
   "outputs": [],
   "source": [
    "from bokeh.plotting import figure, output_notebook, show"
   ]
  },
  {
   "cell_type": "code",
   "execution_count": 4,
   "metadata": {
    "collapsed": false
   },
   "outputs": [],
   "source": [
    "antibiotics = \"\"\"\n",
    "bacteria,                        penicillin, streptomycin, neomycin, gram\n",
    "Mycobacterium tuberculosis,      800,        5,            2,        negative\n",
    "Salmonella schottmuelleri,       10,         0.8,          0.09,     negative\n",
    "Proteus vulgaris,                3,          0.1,          0.1,      negative\n",
    "Klebsiella pneumoniae,           850,        1.2,          1,        negative\n",
    "Brucella abortus,                1,          2,            0.02,     negative\n",
    "Pseudomonas aeruginosa,          850,        2,            0.4,      negative\n",
    "Escherichia coli,                100,        0.4,          0.1,      negative\n",
    "Salmonella (Eberthella) typhosa, 1,          0.4,          0.008,    negative\n",
    "Aerobacter aerogenes,            870,        1,            1.6,      negative\n",
    "Brucella antracis,               0.001,      0.01,         0.007,    positive\n",
    "Streptococcus fecalis,           1,          1,            0.1,      positive\n",
    "Staphylococcus aureus,           0.03,       0.03,         0.001,    positive\n",
    "Staphylococcus albus,            0.007,      0.1,          0.001,    positive\n",
    "Streptococcus hemolyticus,       0.001,      14,           10,       positive\n",
    "Streptococcus viridans,          0.005,      10,           40,       positive\n",
    "Diplococcus pneumoniae,          0.005,      11,           10,       positive\n",
    "\"\"\""
   ]
  },
  {
   "cell_type": "code",
   "execution_count": 5,
   "metadata": {
    "collapsed": false
   },
   "outputs": [],
   "source": [
    "drug_color = {\n",
    "    \"Penicillin\"   : \"#0d3362\",\n",
    "    \"Streptomycin\" : \"#c64737\",\n",
    "    \"Neomycin\"     : \"black\",\n",
    "}"
   ]
  },
  {
   "cell_type": "code",
   "execution_count": 6,
   "metadata": {
    "collapsed": false
   },
   "outputs": [],
   "source": [
    "gram_color = {\n",
    "    \"positive\" : \"#aeaeb8\",\n",
    "    \"negative\" : \"#e69584\",\n",
    "}"
   ]
  },
  {
   "cell_type": "code",
   "execution_count": 7,
   "metadata": {
    "collapsed": false
   },
   "outputs": [],
   "source": [
    "df = pd.read_csv(StringIO(antibiotics), skiprows=1, skipinitialspace=True, engine='python')"
   ]
  },
  {
   "cell_type": "code",
   "execution_count": 8,
   "metadata": {
    "collapsed": false
   },
   "outputs": [],
   "source": [
    "width = 800\n",
    "height = 800\n",
    "inner_radius = 90\n",
    "outer_radius = 300 - 10\n",
    "\n",
    "minr = sqrt(log(.001 * 1E4))\n",
    "maxr = sqrt(log(1000 * 1E4))\n",
    "a = (outer_radius - inner_radius) / (minr - maxr)\n",
    "b = inner_radius - a * maxr\n",
    "\n",
    "big_angle = 2.0 * np.pi / (len(df) + 1)\n",
    "small_angle = big_angle / 7"
   ]
  },
  {
   "cell_type": "code",
   "execution_count": 9,
   "metadata": {
    "collapsed": false
   },
   "outputs": [],
   "source": [
    "def rad(mic):\n",
    "    return a * np.sqrt(np.log(mic * 1E4)) + b"
   ]
  },
  {
   "cell_type": "code",
   "execution_count": 10,
   "metadata": {
    "collapsed": false
   },
   "outputs": [
    {
     "data": {
      "text/html": [
       "\n",
       "    <div class=\"bk-root\">\n",
       "        <a href=\"http://bokeh.pydata.org\" target=\"_blank\" class=\"bk-logo bk-logo-small bk-logo-notebook\"></a>\n",
       "        <span id=\"152b1090-55cf-4d33-a372-4d1628394ba3\">Loading BokehJS ...</span>\n",
       "    </div>"
      ]
     },
     "metadata": {},
     "output_type": "display_data"
    },
    {
     "data": {
      "application/javascript": [
       "\n",
       "(function(global) {\n",
       "  function now() {\n",
       "    return new Date();\n",
       "  }\n",
       "\n",
       "  if (typeof (window._bokeh_onload_callbacks) === \"undefined\") {\n",
       "    window._bokeh_onload_callbacks = [];\n",
       "  }\n",
       "\n",
       "  function run_callbacks() {\n",
       "    window._bokeh_onload_callbacks.forEach(function(callback) { callback() });\n",
       "    delete window._bokeh_onload_callbacks\n",
       "    console.info(\"Bokeh: all callbacks have finished\");\n",
       "  }\n",
       "\n",
       "  function load_libs(js_urls, callback) {\n",
       "    window._bokeh_onload_callbacks.push(callback);\n",
       "    if (window._bokeh_is_loading > 0) {\n",
       "      console.log(\"Bokeh: BokehJS is being loaded, scheduling callback at\", now());\n",
       "      return null;\n",
       "    }\n",
       "    if (js_urls == null || js_urls.length === 0) {\n",
       "      run_callbacks();\n",
       "      return null;\n",
       "    }\n",
       "    console.log(\"Bokeh: BokehJS not loaded, scheduling load and callback at\", now());\n",
       "    window._bokeh_is_loading = js_urls.length;\n",
       "    for (var i = 0; i < js_urls.length; i++) {\n",
       "      var url = js_urls[i];\n",
       "      var s = document.createElement('script');\n",
       "      s.src = url;\n",
       "      s.async = false;\n",
       "      s.onreadystatechange = s.onload = function() {\n",
       "        window._bokeh_is_loading--;\n",
       "        if (window._bokeh_is_loading === 0) {\n",
       "          console.log(\"Bokeh: all BokehJS libraries loaded\");\n",
       "          run_callbacks()\n",
       "        }\n",
       "      };\n",
       "      s.onerror = function() {\n",
       "        console.warn(\"failed to load library \" + url);\n",
       "      };\n",
       "      console.log(\"Bokeh: injecting script tag for BokehJS library: \", url);\n",
       "      document.getElementsByTagName(\"head\")[0].appendChild(s);\n",
       "    }\n",
       "  };\n",
       "\n",
       "  var js_urls = ['https://cdn.pydata.org/bokeh/release/bokeh-0.12.0.min.js', 'https://cdn.pydata.org/bokeh/release/bokeh-widgets-0.12.0.min.js', 'https://cdn.pydata.org/bokeh/release/bokeh-compiler-0.12.0.min.js'];\n",
       "\n",
       "  var inline_js = [\n",
       "    function(Bokeh) {\n",
       "      Bokeh.set_log_level(\"info\");\n",
       "    },\n",
       "    \n",
       "    function(Bokeh) {\n",
       "      Bokeh.$(\"#152b1090-55cf-4d33-a372-4d1628394ba3\").text(\"BokehJS successfully loaded\");\n",
       "    },\n",
       "    function(Bokeh) {\n",
       "      console.log(\"Bokeh: injecting CSS: https://cdn.pydata.org/bokeh/release/bokeh-0.12.0.min.css\");\n",
       "      Bokeh.embed.inject_css(\"https://cdn.pydata.org/bokeh/release/bokeh-0.12.0.min.css\");\n",
       "      console.log(\"Bokeh: injecting CSS: https://cdn.pydata.org/bokeh/release/bokeh-widgets-0.12.0.min.css\");\n",
       "      Bokeh.embed.inject_css(\"https://cdn.pydata.org/bokeh/release/bokeh-widgets-0.12.0.min.css\");\n",
       "    }\n",
       "  ];\n",
       "\n",
       "  function run_inline_js() {\n",
       "    for (var i = 0; i < inline_js.length; i++) {\n",
       "      inline_js[i](window.Bokeh);\n",
       "    }\n",
       "  }\n",
       "\n",
       "  if (window._bokeh_is_loading === 0) {\n",
       "    console.log(\"Bokeh: BokehJS loaded, going straight to plotting\");\n",
       "    run_inline_js();\n",
       "  } else {\n",
       "    load_libs(js_urls, function() {\n",
       "      console.log(\"Bokeh: BokehJS plotting callback run at\", now());\n",
       "      run_inline_js();\n",
       "    });\n",
       "  }\n",
       "}(this));"
      ]
     },
     "metadata": {},
     "output_type": "display_data"
    }
   ],
   "source": [
    "output_notebook()"
   ]
  },
  {
   "cell_type": "code",
   "execution_count": 11,
   "metadata": {
    "collapsed": false
   },
   "outputs": [],
   "source": [
    "p = figure(plot_width=width, plot_height=height, toolbar_sticky=False,\n",
    "           x_axis_type=None, y_axis_type=None,\n",
    "           x_range=(-420, 420), y_range=(-420, 420),\n",
    "           min_border=0, outline_line_color=\"black\",\n",
    "           background_fill_color=\"#f0e1d2\", border_fill_color=\"#f0e1d2\")"
   ]
  },
  {
   "cell_type": "code",
   "execution_count": 12,
   "metadata": {
    "collapsed": false
   },
   "outputs": [
    {
     "data": {
      "text/plain": [
       "<bokeh.models.renderers.GlyphRenderer at 0x1058ac780>"
      ]
     },
     "execution_count": 12,
     "metadata": {},
     "output_type": "execute_result"
    }
   ],
   "source": [
    "# annular wedges\n",
    "angles = np.pi/2 - big_angle/2 - df.index.to_series()*big_angle\n",
    "colors = [gram_color[gram] for gram in df.gram]\n",
    "p.annular_wedge(0, 0, inner_radius, outer_radius, -big_angle+angles, angles, color=colors)"
   ]
  },
  {
   "cell_type": "code",
   "execution_count": 13,
   "metadata": {
    "collapsed": false
   },
   "outputs": [
    {
     "data": {
      "text/plain": [
       "<bokeh.models.renderers.GlyphRenderer at 0x10dab7b00>"
      ]
     },
     "execution_count": 13,
     "metadata": {},
     "output_type": "execute_result"
    }
   ],
   "source": [
    "# small wedges\n",
    "p.annular_wedge(0, 0, inner_radius, rad(df.penicillin), -big_angle+angles + 5*small_angle, \n",
    "                -big_angle+angles+6*small_angle, color=drug_color['Penicillin'])\n",
    "p.annular_wedge(0, 0, inner_radius, rad(df.streptomycin), -big_angle+angles + 3*small_angle, \n",
    "                -big_angle+angles+4*small_angle, color=drug_color['Streptomycin'])\n",
    "p.annular_wedge(0, 0, inner_radius, rad(df.neomycin), -big_angle+angles + 1*small_angle, \n",
    "                -big_angle+angles+2*small_angle, color=drug_color['Neomycin'])"
   ]
  },
  {
   "cell_type": "code",
   "execution_count": 14,
   "metadata": {
    "collapsed": false
   },
   "outputs": [
    {
     "data": {
      "text/plain": [
       "<bokeh.models.renderers.GlyphRenderer at 0x10dab7278>"
      ]
     },
     "execution_count": 14,
     "metadata": {},
     "output_type": "execute_result"
    }
   ],
   "source": [
    "# circular axes and lables\n",
    "labels = np.power(10.0, np.arange(-3, 4))\n",
    "radii = a * np.sqrt(np.log(labels * 1E4)) + b\n",
    "p.circle(0, 0, radius=radii, fill_color=None, line_color=\"white\")\n",
    "p.text(0, radii[:-1], [str(r) for r in labels[:-1]], \n",
    "       text_font_size=\"8pt\", text_align=\"center\", text_baseline=\"middle\")"
   ]
  },
  {
   "cell_type": "code",
   "execution_count": 15,
   "metadata": {
    "collapsed": false
   },
   "outputs": [
    {
     "data": {
      "text/plain": [
       "<bokeh.models.renderers.GlyphRenderer at 0x10da94cf8>"
      ]
     },
     "execution_count": 15,
     "metadata": {},
     "output_type": "execute_result"
    }
   ],
   "source": [
    "# radial axes\n",
    "p.annular_wedge(0, 0, inner_radius-10, outer_radius+10, \n",
    "                -big_angle+angles, -big_angle+angles, color=\"black\")"
   ]
  },
  {
   "cell_type": "code",
   "execution_count": 16,
   "metadata": {
    "collapsed": false
   },
   "outputs": [
    {
     "data": {
      "text/plain": [
       "<bokeh.models.renderers.GlyphRenderer at 0x10dab7ef0>"
      ]
     },
     "execution_count": 16,
     "metadata": {},
     "output_type": "execute_result"
    }
   ],
   "source": [
    "# bacteria labels\n",
    "xr = radii[0]*np.cos(np.array(-big_angle/2 + angles))\n",
    "yr = radii[0]*np.sin(np.array(-big_angle/2 + angles))\n",
    "label_angle=np.array(-big_angle/2+angles)\n",
    "label_angle[label_angle < -np.pi/2] += np.pi # easier to read labels on the left side\n",
    "p.text(xr, yr, df.bacteria, angle=label_angle, text_font_size=\"9pt\", text_align=\"center\", text_baseline=\"middle\")"
   ]
  },
  {
   "cell_type": "code",
   "execution_count": 17,
   "metadata": {
    "collapsed": false
   },
   "outputs": [
    {
     "data": {
      "text/plain": [
       "<bokeh.models.renderers.GlyphRenderer at 0x10dac0a20>"
      ]
     },
     "execution_count": 17,
     "metadata": {},
     "output_type": "execute_result"
    }
   ],
   "source": [
    "# OK, these hand drawn legends are pretty clunky, will be improved in future release\n",
    "p.circle([-40, -40], [-370, -390], color=list(gram_color.values()), radius=5)\n",
    "p.text([-30, -30], [-370, -390], text=[\"Gram-\" + x for x in gram_color.keys()], \n",
    "       text_font_size=\"7pt\", text_align=\"left\", text_baseline=\"middle\")\n",
    "\n",
    "p.rect([-40, -40, -40], [18, 0, -18], width=30, height=13, color=list(drug_color.values()))\n",
    "p.text([-15, -15, -15], [18, 0, -18], text=list(drug_color.keys()),\n",
    "       text_font_size=\"9pt\", text_align=\"left\", text_baseline=\"middle\")"
   ]
  },
  {
   "cell_type": "code",
   "execution_count": 18,
   "metadata": {
    "collapsed": false
   },
   "outputs": [],
   "source": [
    "p.xgrid.grid_line_color = None\n",
    "p.ygrid.grid_line_color = None"
   ]
  },
  {
   "cell_type": "code",
   "execution_count": 19,
   "metadata": {
    "collapsed": false
   },
   "outputs": [
    {
     "data": {
      "text/html": [
       "\n",
       "\n",
       "    <div class=\"bk-root\">\n",
       "        <div class=\"plotdiv\" id=\"147b83c3-df92-402e-8d64-d9392e37854c\"></div>\n",
       "    </div>\n",
       "<script type=\"text/javascript\">\n",
       "  \n",
       "  (function(global) {\n",
       "    function now() {\n",
       "      return new Date();\n",
       "    }\n",
       "  \n",
       "    if (typeof (window._bokeh_onload_callbacks) === \"undefined\") {\n",
       "      window._bokeh_onload_callbacks = [];\n",
       "    }\n",
       "  \n",
       "    function run_callbacks() {\n",
       "      window._bokeh_onload_callbacks.forEach(function(callback) { callback() });\n",
       "      delete window._bokeh_onload_callbacks\n",
       "      console.info(\"Bokeh: all callbacks have finished\");\n",
       "    }\n",
       "  \n",
       "    function load_libs(js_urls, callback) {\n",
       "      window._bokeh_onload_callbacks.push(callback);\n",
       "      if (window._bokeh_is_loading > 0) {\n",
       "        console.log(\"Bokeh: BokehJS is being loaded, scheduling callback at\", now());\n",
       "        return null;\n",
       "      }\n",
       "      if (js_urls == null || js_urls.length === 0) {\n",
       "        run_callbacks();\n",
       "        return null;\n",
       "      }\n",
       "      console.log(\"Bokeh: BokehJS not loaded, scheduling load and callback at\", now());\n",
       "      window._bokeh_is_loading = js_urls.length;\n",
       "      for (var i = 0; i < js_urls.length; i++) {\n",
       "        var url = js_urls[i];\n",
       "        var s = document.createElement('script');\n",
       "        s.src = url;\n",
       "        s.async = false;\n",
       "        s.onreadystatechange = s.onload = function() {\n",
       "          window._bokeh_is_loading--;\n",
       "          if (window._bokeh_is_loading === 0) {\n",
       "            console.log(\"Bokeh: all BokehJS libraries loaded\");\n",
       "            run_callbacks()\n",
       "          }\n",
       "        };\n",
       "        s.onerror = function() {\n",
       "          console.warn(\"failed to load library \" + url);\n",
       "        };\n",
       "        console.log(\"Bokeh: injecting script tag for BokehJS library: \", url);\n",
       "        document.getElementsByTagName(\"head\")[0].appendChild(s);\n",
       "      }\n",
       "    };var element = document.getElementById(\"147b83c3-df92-402e-8d64-d9392e37854c\");\n",
       "    if (element == null) {\n",
       "      console.log(\"Bokeh: ERROR: autoload.js configured with elementid '147b83c3-df92-402e-8d64-d9392e37854c' but no matching script tag was found. \")\n",
       "      return false;\n",
       "    }\n",
       "  \n",
       "    var js_urls = [];\n",
       "  \n",
       "    var inline_js = [\n",
       "      function(Bokeh) {\n",
       "        Bokeh.$(function() {\n",
       "            var docs_json = {\"25e55287-cb9f-4f3d-aa1d-fda6e93cb972\":{\"roots\":{\"references\":[{\"attributes\":{},\"id\":\"a39bb276-ab66-4c23-b8ea-5db82f1b5e1d\",\"type\":\"ToolEvents\"},{\"attributes\":{\"data_source\":{\"id\":\"2d76ce3f-768d-4c2a-a93a-27aa0474b54f\",\"type\":\"ColumnDataSource\"},\"glyph\":{\"id\":\"4defb665-454e-473a-b133-035bc2614593\",\"type\":\"AnnularWedge\"},\"hover_glyph\":null,\"nonselection_glyph\":{\"id\":\"4a38e4c4-d059-4078-80e3-37f2ae6025b1\",\"type\":\"AnnularWedge\"},\"selection_glyph\":null},\"id\":\"3aff23a7-cfc6-46c9-9660-7627a9a29a54\",\"type\":\"GlyphRenderer\"},{\"attributes\":{\"fill_color\":{\"value\":null},\"line_color\":{\"value\":\"white\"},\"radius\":{\"field\":\"radius\",\"units\":\"data\"},\"x\":{\"value\":0},\"y\":{\"value\":0}},\"id\":\"7942b0c0-af99-40b3-91da-3bac925aae31\",\"type\":\"Circle\"},{\"attributes\":{\"data_source\":{\"id\":\"be272bf0-dcf3-48c4-992f-53e3c646a282\",\"type\":\"ColumnDataSource\"},\"glyph\":{\"id\":\"2edd0f7f-4188-491a-97cf-9874b0717dd6\",\"type\":\"AnnularWedge\"},\"hover_glyph\":null,\"nonselection_glyph\":{\"id\":\"660a761e-d12c-46c4-97ff-ffe0f817e956\",\"type\":\"AnnularWedge\"},\"selection_glyph\":null},\"id\":\"1e7992a1-312c-4c9e-8d97-fae29cdf45d4\",\"type\":\"GlyphRenderer\"},{\"attributes\":{\"text_baseline\":\"middle\",\"text_color\":{\"value\":\"black\"},\"text_font_size\":{\"value\":\"9pt\"},\"x\":{\"field\":\"x\"},\"y\":{\"field\":\"y\"}},\"id\":\"6b9898c4-9ae6-4016-8e96-08e2674da873\",\"type\":\"Text\"},{\"attributes\":{\"plot\":null,\"text\":null},\"id\":\"d1b799fb-61b5-4b16-8985-594e3cafc84f\",\"type\":\"Title\"},{\"attributes\":{\"data_source\":{\"id\":\"cd5f64a9-7a86-4fc1-89eb-c3e546096572\",\"type\":\"ColumnDataSource\"},\"glyph\":{\"id\":\"9c6c75b1-f732-4d39-9ae0-f6284cc38456\",\"type\":\"Circle\"},\"hover_glyph\":null,\"nonselection_glyph\":{\"id\":\"2ce167a0-68dd-45f6-92b4-bc5b2fdc771a\",\"type\":\"Circle\"},\"selection_glyph\":null},\"id\":\"64fea688-1ff8-4787-9651-99c366cdefa3\",\"type\":\"GlyphRenderer\"},{\"attributes\":{\"fill_color\":{\"field\":\"fill_color\"},\"height\":{\"units\":\"data\",\"value\":13},\"line_color\":{\"field\":\"line_color\"},\"width\":{\"units\":\"data\",\"value\":30},\"x\":{\"field\":\"x\"},\"y\":{\"field\":\"y\"}},\"id\":\"c1aafd31-636c-46f2-adb3-e899051b0954\",\"type\":\"Rect\"},{\"attributes\":{\"callback\":null,\"column_names\":[\"end_angle\",\"start_angle\",\"outer_radius\"],\"data\":{\"end_angle\":[1.2275971293439107,0.8579979936274644,0.48839885791101834,0.1187997221945721,-0.2507994135218742,-0.6203985492383206,-0.9899976849547667,-1.3595968206712132,-1.7291959563876593,-2.098795092104105,-2.4683942278205517,-2.837993363536998,-3.207592499253444,-3.57719163496989,-3.9467907706863374,-4.316389906402782],\"outer_radius\":[148.09389702866355,171.43725698767838,201.03749361799578,166.08111883679086,159.49517010860004,159.49517010860004,180.8815241029378,180.8815241029378,168.47495629784697,239.66267873058516,168.47495629784697,220.2583199527764,201.03749361799578,135.84452353427264,139.7867850155062,138.66430573015015],\"start_angle\":[1.17479725281299,0.8051981170965435,0.43559898138009745,0.06599984566365122,-0.30359929005279507,-0.6731984257692415,-1.0427975614856875,-1.412396697202134,-1.78199583291858,-2.151594968635026,-2.5211941043514727,-2.890793240067919,-3.260392375784365,-3.629991511500811,-3.9995906472172584,-4.369189782933703]}},\"id\":\"2d76ce3f-768d-4c2a-a93a-27aa0474b54f\",\"type\":\"ColumnDataSource\"},{\"attributes\":{\"end_angle\":{\"field\":\"end_angle\",\"units\":\"rad\"},\"fill_color\":{\"field\":\"fill_color\"},\"inner_radius\":{\"units\":\"data\",\"value\":90},\"line_color\":{\"field\":\"line_color\"},\"outer_radius\":{\"units\":\"data\",\"value\":290},\"start_angle\":{\"field\":\"start_angle\",\"units\":\"rad\"},\"x\":{\"value\":0},\"y\":{\"value\":0}},\"id\":\"2edd0f7f-4188-491a-97cf-9874b0717dd6\",\"type\":\"AnnularWedge\"},{\"attributes\":{\"overlay\":{\"id\":\"ac5071cd-d9eb-48c5-a2b8-2224f01bcde7\",\"type\":\"BoxAnnotation\"},\"plot\":{\"id\":\"250eaea8-5d96-48b1-b7d6-20f682bb8068\",\"subtype\":\"Figure\",\"type\":\"Plot\"}},\"id\":\"b5cee38e-f0be-485a-995d-1d6a9287ca57\",\"type\":\"BoxZoomTool\"},{\"attributes\":{\"callback\":null,\"column_names\":[\"end_angle\",\"start_angle\",\"line_color\",\"fill_color\"],\"data\":{\"end_angle\":[1.3859967589366735,1.0163976232202272,0.646798487503781,0.2771993517873348,-0.09239978392911152,-0.46199891964555784,-0.8315980553620039,-1.2011971910784505,-1.5707963267948966,-1.9403954625113427,-2.309994598227789,-2.6795937339442353,-3.0491928696606814,-3.4187920053771275,-3.7883911410935744,-4.15799027681002],\"fill_color\":[\"#e69584\",\"#e69584\",\"#e69584\",\"#e69584\",\"#e69584\",\"#e69584\",\"#e69584\",\"#e69584\",\"#e69584\",\"#aeaeb8\",\"#aeaeb8\",\"#aeaeb8\",\"#aeaeb8\",\"#aeaeb8\",\"#aeaeb8\",\"#aeaeb8\"],\"line_color\":[\"#e69584\",\"#e69584\",\"#e69584\",\"#e69584\",\"#e69584\",\"#e69584\",\"#e69584\",\"#e69584\",\"#e69584\",\"#aeaeb8\",\"#aeaeb8\",\"#aeaeb8\",\"#aeaeb8\",\"#aeaeb8\",\"#aeaeb8\",\"#aeaeb8\"],\"start_angle\":[1.0163976232202272,0.6467984875037809,0.27719935178733474,-0.09239978392911147,-0.4619989196455578,-0.8315980553620042,-1.2011971910784502,-1.5707963267948968,-1.9403954625113429,-2.3099945982277887,-2.6795937339442353,-3.0491928696606814,-3.4187920053771275,-3.7883911410935736,-4.157990276810021,-4.527589412526466]}},\"id\":\"be272bf0-dcf3-48c4-992f-53e3c646a282\",\"type\":\"ColumnDataSource\"},{\"attributes\":{\"angle\":{\"field\":\"angle\",\"units\":\"rad\"},\"text_align\":\"center\",\"text_alpha\":{\"value\":0.1},\"text_baseline\":\"middle\",\"text_color\":{\"value\":\"black\"},\"text_font_size\":{\"value\":\"9pt\"},\"x\":{\"field\":\"x\"},\"y\":{\"field\":\"y\"}},\"id\":\"f0dfbfd3-0e26-4543-b7d9-303181d06a1a\",\"type\":\"Text\"},{\"attributes\":{\"callback\":null,\"column_names\":[\"x\",\"y\",\"line_color\",\"fill_color\"],\"data\":{\"fill_color\":[\"#c64737\",\"black\",\"#0d3362\"],\"line_color\":[\"#c64737\",\"black\",\"#0d3362\"],\"x\":[-40,-40,-40],\"y\":[18,0,-18]}},\"id\":\"dc0fdb61-5d8e-4635-acbf-1e25bb50b2b3\",\"type\":\"ColumnDataSource\"},{\"attributes\":{\"active_drag\":\"auto\",\"active_scroll\":\"auto\",\"active_tap\":\"auto\",\"tools\":[{\"id\":\"9f1c02c3-b1ad-4b30-af09-ec56284c054d\",\"type\":\"PanTool\"},{\"id\":\"708e6379-5785-4848-8dc2-6ed024ee3727\",\"type\":\"WheelZoomTool\"},{\"id\":\"b5cee38e-f0be-485a-995d-1d6a9287ca57\",\"type\":\"BoxZoomTool\"},{\"id\":\"0c3a54b7-fb6d-4204-ba55-d209b9ca6cbf\",\"type\":\"SaveTool\"},{\"id\":\"5863afd5-5b33-4c87-a580-2ae136a47bee\",\"type\":\"ResetTool\"},{\"id\":\"2797235b-5aa9-4228-a4fa-e95ded1eefd6\",\"type\":\"HelpTool\"}]},\"id\":\"1ecf489b-c9c2-4155-83b8-d61fdd35d6f6\",\"type\":\"Toolbar\"},{\"attributes\":{\"end_angle\":{\"field\":\"end_angle\",\"units\":\"rad\"},\"fill_alpha\":{\"value\":0.1},\"fill_color\":{\"value\":\"#1f77b4\"},\"inner_radius\":{\"units\":\"data\",\"value\":90},\"line_alpha\":{\"value\":0.1},\"line_color\":{\"value\":\"#1f77b4\"},\"outer_radius\":{\"field\":\"outer_radius\",\"units\":\"data\"},\"start_angle\":{\"field\":\"start_angle\",\"units\":\"rad\"},\"x\":{\"value\":0},\"y\":{\"value\":0}},\"id\":\"4a38e4c4-d059-4078-80e3-37f2ae6025b1\",\"type\":\"AnnularWedge\"},{\"attributes\":{\"data_source\":{\"id\":\"dc0fdb61-5d8e-4635-acbf-1e25bb50b2b3\",\"type\":\"ColumnDataSource\"},\"glyph\":{\"id\":\"c1aafd31-636c-46f2-adb3-e899051b0954\",\"type\":\"Rect\"},\"hover_glyph\":null,\"nonselection_glyph\":{\"id\":\"3789a0c7-a7d6-480c-a11c-f78b76b80cfd\",\"type\":\"Rect\"},\"selection_glyph\":null},\"id\":\"23ddf7ce-1401-47f4-b2d5-5768b2ce2aa4\",\"type\":\"GlyphRenderer\"},{\"attributes\":{\"callback\":null,\"column_names\":[\"x\",\"angle\",\"y\",\"text\"],\"data\":{\"angle\":[1.2011971910784505,0.831598055362004,0.46199891964555784,0.09239978392911166,-0.2771993517873347,-0.646798487503781,-1.016397623220227,-1.3859967589366735,1.3859967589366735,1.0163976232202274,0.6467984875037809,0.2771993517873348,-0.0923997839291113,-0.4619989196455574,-0.8315980553620044,-1.2011971910784505],\"text\":[\"Mycobacterium tuberculosis\",\"Salmonella schottmuelleri\",\"Proteus vulgaris\",\"Klebsiella pneumoniae\",\"Brucella abortus\",\"Pseudomonas aeruginosa\",\"Escherichia coli\",\"Salmonella (Eberthella) typhosa\",\"Aerobacter aerogenes\",\"Brucella antracis\",\"Streptococcus fecalis\",\"Staphylococcus aureus\",\"Staphylococcus albus\",\"Streptococcus hemolyticus\",\"Streptococcus viridans\",\"Diplococcus pneumoniae\"],\"x\":[104.76008319427433,195.37173665750163,259.59735449296807,288.76291112556,278.9294365201175,231.42499591126946,152.66532723443325,53.28736016680539,-53.28736016680536,-152.6653272344331,-231.42499591126946,-278.9294365201175,-288.76291112556004,-259.5973544929681,-195.37173665750157,-104.76008319427434],\"y\":[270.4169465272632,214.31258599399115,129.2641231751961,26.757824244357604,-79.36226712090402,-174.76404454998436,-246.56296936158805,-285.06219890833154,-285.06219890833154,-246.56296936158816,-174.76404454998436,-79.3622671209041,26.75782424435747,129.26412317519595,214.31258599399115,270.4169465272632]}},\"id\":\"ad13b514-2f95-4720-9709-b8be2eb1d375\",\"type\":\"ColumnDataSource\"},{\"attributes\":{\"data_source\":{\"id\":\"a0648359-3e28-402c-89aa-5315fcda8faa\",\"type\":\"ColumnDataSource\"},\"glyph\":{\"id\":\"7942b0c0-af99-40b3-91da-3bac925aae31\",\"type\":\"Circle\"},\"hover_glyph\":null,\"nonselection_glyph\":{\"id\":\"04642a8b-6f5b-46c0-8da3-49c3d0420fd6\",\"type\":\"Circle\"},\"selection_glyph\":null},\"id\":\"977773d4-bb43-4057-9e3f-437bef00aa6c\",\"type\":\"GlyphRenderer\"},{\"attributes\":{\"text_align\":\"center\",\"text_baseline\":\"middle\",\"text_color\":{\"value\":\"black\"},\"text_font_size\":{\"value\":\"8pt\"},\"x\":{\"value\":0},\"y\":{\"field\":\"y\"}},\"id\":\"5d095710-c0e8-47d7-9f8b-eb3a5daa1119\",\"type\":\"Text\"},{\"attributes\":{\"angle\":{\"field\":\"angle\",\"units\":\"rad\"},\"text_align\":\"center\",\"text_baseline\":\"middle\",\"text_color\":{\"value\":\"black\"},\"text_font_size\":{\"value\":\"9pt\"},\"x\":{\"field\":\"x\"},\"y\":{\"field\":\"y\"}},\"id\":\"b159394c-806e-45a0-a1ab-fb72b9108212\",\"type\":\"Text\"},{\"attributes\":{\"callback\":null,\"column_names\":[\"end_angle\",\"start_angle\",\"outer_radius\"],\"data\":{\"end_angle\":[1.121997376282069,0.7523982405656227,0.3827991048491765,0.013199969132730319,-0.356399166583716,-0.7259983023001624,-1.0955974380166085,-1.465196573733055,-1.834795709449501,-2.2043948451659467,-2.5739939808823933,-2.9435931165988394,-3.3131922523152855,-3.6827913880317316,-4.052390523748179,-4.421989659464624],\"outer_radius\":[159.49517010860004,202.64889203801422,201.03749361799578,168.47495629784697,227.18192696067584,180.8815241029378,201.03749361799578,243.8781742537954,162.35069204091852,246.45224684191624,201.03749361799578,290.0,290.0,139.7867850155062,123.8914127986476,139.7867850155062],\"start_angle\":[1.0691974997511482,0.6995983640347018,0.3299992283182556,-0.039599907398190574,-0.4091990431146369,-0.7787981788310833,-1.1483973145475292,-1.5179964502639758,-1.8875955859804219,-2.2571947216968677,-2.6267938574133143,-2.9963929931297604,-3.3659921288462065,-3.7355912645626526,-4.1051904002791,-4.474789535995545]}},\"id\":\"61b90514-6fdf-49cf-bd28-ec584e1e1561\",\"type\":\"ColumnDataSource\"},{\"attributes\":{\"callback\":null,\"column_names\":[\"x\",\"y\",\"line_color\",\"fill_color\"],\"data\":{\"fill_color\":[\"#e69584\",\"#aeaeb8\"],\"line_color\":[\"#e69584\",\"#aeaeb8\"],\"x\":[-40,-40],\"y\":[-370,-390]}},\"id\":\"cd5f64a9-7a86-4fc1-89eb-c3e546096572\",\"type\":\"ColumnDataSource\"},{\"attributes\":{\"end_angle\":{\"field\":\"end_angle\",\"units\":\"rad\"},\"fill_color\":{\"value\":\"#c64737\"},\"inner_radius\":{\"units\":\"data\",\"value\":90},\"line_color\":{\"value\":\"#c64737\"},\"outer_radius\":{\"field\":\"outer_radius\",\"units\":\"data\"},\"start_angle\":{\"field\":\"start_angle\",\"units\":\"rad\"},\"x\":{\"value\":0},\"y\":{\"value\":0}},\"id\":\"4defb665-454e-473a-b133-035bc2614593\",\"type\":\"AnnularWedge\"},{\"attributes\":{\"text_baseline\":\"middle\",\"text_color\":{\"value\":\"black\"},\"text_font_size\":{\"value\":\"7pt\"},\"x\":{\"field\":\"x\"},\"y\":{\"field\":\"y\"}},\"id\":\"7b84ad9b-e0e4-448d-b081-049e30c5a58a\",\"type\":\"Text\"},{\"attributes\":{\"end_angle\":{\"field\":\"end_angle\",\"units\":\"rad\"},\"fill_alpha\":{\"value\":0.1},\"fill_color\":{\"value\":\"#1f77b4\"},\"inner_radius\":{\"units\":\"data\",\"value\":90},\"line_alpha\":{\"value\":0.1},\"line_color\":{\"value\":\"#1f77b4\"},\"outer_radius\":{\"units\":\"data\",\"value\":290},\"start_angle\":{\"field\":\"start_angle\",\"units\":\"rad\"},\"x\":{\"value\":0},\"y\":{\"value\":0}},\"id\":\"660a761e-d12c-46c4-97ff-ffe0f817e956\",\"type\":\"AnnularWedge\"},{\"attributes\":{\"plot\":{\"id\":\"250eaea8-5d96-48b1-b7d6-20f682bb8068\",\"subtype\":\"Figure\",\"type\":\"Plot\"}},\"id\":\"9f1c02c3-b1ad-4b30-af09-ec56284c054d\",\"type\":\"PanTool\"},{\"attributes\":{\"plot\":{\"id\":\"250eaea8-5d96-48b1-b7d6-20f682bb8068\",\"subtype\":\"Figure\",\"type\":\"Plot\"}},\"id\":\"0c3a54b7-fb6d-4204-ba55-d209b9ca6cbf\",\"type\":\"SaveTool\"},{\"attributes\":{\"bottom_units\":\"screen\",\"fill_alpha\":{\"value\":0.5},\"fill_color\":{\"value\":\"lightgrey\"},\"left_units\":\"screen\",\"level\":\"overlay\",\"line_alpha\":{\"value\":1.0},\"line_color\":{\"value\":\"black\"},\"line_dash\":[4,4],\"line_width\":{\"value\":2},\"plot\":null,\"render_mode\":\"css\",\"right_units\":\"screen\",\"top_units\":\"screen\"},\"id\":\"ac5071cd-d9eb-48c5-a2b8-2224f01bcde7\",\"type\":\"BoxAnnotation\"},{\"attributes\":{\"callback\":null,\"end\":420,\"start\":-420},\"id\":\"74483e2f-0242-4ee3-afd0-12fc1c10e808\",\"type\":\"Range1d\"},{\"attributes\":{\"callback\":null,\"column_names\":[\"y\",\"text\"],\"data\":{\"text\":[\"0.001\",\"0.01\",\"0.1\",\"1.0\",\"10.0\",\"100.0\"],\"y\":[290.0,239.66267873058516,201.03749361799578,168.47495629784697,139.7867850155062,113.85069566245176]}},\"id\":\"7d5a4e80-f20a-4e5a-bdfb-41c87d070ba3\",\"type\":\"ColumnDataSource\"},{\"attributes\":{\"data_source\":{\"id\":\"61b90514-6fdf-49cf-bd28-ec584e1e1561\",\"type\":\"ColumnDataSource\"},\"glyph\":{\"id\":\"d4426b8e-9931-481e-9c59-59126f9f7345\",\"type\":\"AnnularWedge\"},\"hover_glyph\":null,\"nonselection_glyph\":{\"id\":\"cfc9314a-e407-442d-a2fb-c7fd798fb004\",\"type\":\"AnnularWedge\"},\"selection_glyph\":null},\"id\":\"2551cf10-8d3a-472a-a5be-7eb817b79f91\",\"type\":\"GlyphRenderer\"},{\"attributes\":{\"end_angle\":{\"field\":\"end_angle\",\"units\":\"rad\"},\"fill_alpha\":{\"value\":0.1},\"fill_color\":{\"value\":\"#1f77b4\"},\"inner_radius\":{\"units\":\"data\",\"value\":80},\"line_alpha\":{\"value\":0.1},\"line_color\":{\"value\":\"#1f77b4\"},\"outer_radius\":{\"units\":\"data\",\"value\":300},\"start_angle\":{\"field\":\"start_angle\",\"units\":\"rad\"},\"x\":{\"value\":0},\"y\":{\"value\":0}},\"id\":\"c60bd39c-ba55-4a52-85ed-f5d32e0bdd17\",\"type\":\"AnnularWedge\"},{\"attributes\":{\"callback\":null,\"column_names\":[\"x\",\"y\",\"text\"],\"data\":{\"text\":[\"Streptomycin\",\"Neomycin\",\"Penicillin\"],\"x\":[-15,-15,-15],\"y\":[18,0,-18]}},\"id\":\"5e5689f5-360f-49cb-9bf9-6986062086fe\",\"type\":\"ColumnDataSource\"},{\"attributes\":{\"background_fill_color\":{\"value\":\"#f0e1d2\"},\"border_fill_color\":{\"value\":\"#f0e1d2\"},\"min_border\":0,\"outline_line_color\":{\"value\":\"black\"},\"plot_height\":800,\"plot_width\":800,\"renderers\":[{\"id\":\"ac5071cd-d9eb-48c5-a2b8-2224f01bcde7\",\"type\":\"BoxAnnotation\"},{\"id\":\"1e7992a1-312c-4c9e-8d97-fae29cdf45d4\",\"type\":\"GlyphRenderer\"},{\"id\":\"7be826d9-7caf-4db8-a7c3-08dd17c4309b\",\"type\":\"GlyphRenderer\"},{\"id\":\"3aff23a7-cfc6-46c9-9660-7627a9a29a54\",\"type\":\"GlyphRenderer\"},{\"id\":\"2551cf10-8d3a-472a-a5be-7eb817b79f91\",\"type\":\"GlyphRenderer\"},{\"id\":\"977773d4-bb43-4057-9e3f-437bef00aa6c\",\"type\":\"GlyphRenderer\"},{\"id\":\"fb446981-7d03-4a31-97c2-8a45bdde11a7\",\"type\":\"GlyphRenderer\"},{\"id\":\"c0b84ef5-e559-432d-a9e8-dee5180826b3\",\"type\":\"GlyphRenderer\"},{\"id\":\"709a3033-82ad-4c1e-badb-bd357f8511d2\",\"type\":\"GlyphRenderer\"},{\"id\":\"64fea688-1ff8-4787-9651-99c366cdefa3\",\"type\":\"GlyphRenderer\"},{\"id\":\"aa0eb69d-7e63-4c71-9d52-7bb1821bc6f1\",\"type\":\"GlyphRenderer\"},{\"id\":\"23ddf7ce-1401-47f4-b2d5-5768b2ce2aa4\",\"type\":\"GlyphRenderer\"},{\"id\":\"eb738131-e959-472e-98f0-a10ca46904ba\",\"type\":\"GlyphRenderer\"}],\"title\":{\"id\":\"d1b799fb-61b5-4b16-8985-594e3cafc84f\",\"type\":\"Title\"},\"tool_events\":{\"id\":\"a39bb276-ab66-4c23-b8ea-5db82f1b5e1d\",\"type\":\"ToolEvents\"},\"toolbar\":{\"id\":\"1ecf489b-c9c2-4155-83b8-d61fdd35d6f6\",\"type\":\"Toolbar\"},\"toolbar_sticky\":false,\"x_range\":{\"id\":\"74483e2f-0242-4ee3-afd0-12fc1c10e808\",\"type\":\"Range1d\"},\"y_range\":{\"id\":\"daf69ef3-7125-4cef-9434-62a26d6765bd\",\"type\":\"Range1d\"}},\"id\":\"250eaea8-5d96-48b1-b7d6-20f682bb8068\",\"subtype\":\"Figure\",\"type\":\"Plot\"},{\"attributes\":{\"end_angle\":{\"field\":\"end_angle\",\"units\":\"rad\"},\"fill_alpha\":{\"value\":0.1},\"fill_color\":{\"value\":\"#1f77b4\"},\"inner_radius\":{\"units\":\"data\",\"value\":90},\"line_alpha\":{\"value\":0.1},\"line_color\":{\"value\":\"#1f77b4\"},\"outer_radius\":{\"field\":\"outer_radius\",\"units\":\"data\"},\"start_angle\":{\"field\":\"start_angle\",\"units\":\"rad\"},\"x\":{\"value\":0},\"y\":{\"value\":0}},\"id\":\"cfc9314a-e407-442d-a2fb-c7fd798fb004\",\"type\":\"AnnularWedge\"},{\"attributes\":{\"end_angle\":{\"field\":\"end_angle\",\"units\":\"rad\"},\"fill_color\":{\"value\":\"black\"},\"inner_radius\":{\"units\":\"data\",\"value\":90},\"outer_radius\":{\"field\":\"outer_radius\",\"units\":\"data\"},\"start_angle\":{\"field\":\"start_angle\",\"units\":\"rad\"},\"x\":{\"value\":0},\"y\":{\"value\":0}},\"id\":\"d4426b8e-9931-481e-9c59-59126f9f7345\",\"type\":\"AnnularWedge\"},{\"attributes\":{\"data_source\":{\"id\":\"93953813-d63d-49cd-8bd0-06c469453fb5\",\"type\":\"ColumnDataSource\"},\"glyph\":{\"id\":\"c231db8a-974d-4085-91e7-ce306868779c\",\"type\":\"AnnularWedge\"},\"hover_glyph\":null,\"nonselection_glyph\":{\"id\":\"7e0eec73-bead-44d2-8a6f-d80271f8b4ae\",\"type\":\"AnnularWedge\"},\"selection_glyph\":null},\"id\":\"7be826d9-7caf-4db8-a7c3-08dd17c4309b\",\"type\":\"GlyphRenderer\"},{\"attributes\":{\"callback\":null,\"column_names\":[\"end_angle\",\"start_angle\"],\"data\":{\"end_angle\":[1.0163976232202272,0.6467984875037809,0.27719935178733474,-0.09239978392911147,-0.4619989196455578,-0.8315980553620042,-1.2011971910784502,-1.5707963267948968,-1.9403954625113429,-2.3099945982277887,-2.6795937339442353,-3.0491928696606814,-3.4187920053771275,-3.7883911410935736,-4.157990276810021,-4.527589412526466],\"start_angle\":[1.0163976232202272,0.6467984875037809,0.27719935178733474,-0.09239978392911147,-0.4619989196455578,-0.8315980553620042,-1.2011971910784502,-1.5707963267948968,-1.9403954625113429,-2.3099945982277887,-2.6795937339442353,-3.0491928696606814,-3.4187920053771275,-3.7883911410935736,-4.157990276810021,-4.527589412526466]}},\"id\":\"347871d5-dc2d-454f-81e2-c3d354f94753\",\"type\":\"ColumnDataSource\"},{\"attributes\":{\"data_source\":{\"id\":\"347871d5-dc2d-454f-81e2-c3d354f94753\",\"type\":\"ColumnDataSource\"},\"glyph\":{\"id\":\"cf6113e9-9bd1-46cd-a3a3-d5e7ce7a4914\",\"type\":\"AnnularWedge\"},\"hover_glyph\":null,\"nonselection_glyph\":{\"id\":\"c60bd39c-ba55-4a52-85ed-f5d32e0bdd17\",\"type\":\"AnnularWedge\"},\"selection_glyph\":null},\"id\":\"c0b84ef5-e559-432d-a9e8-dee5180826b3\",\"type\":\"GlyphRenderer\"},{\"attributes\":{\"end_angle\":{\"field\":\"end_angle\",\"units\":\"rad\"},\"fill_alpha\":{\"value\":0.1},\"fill_color\":{\"value\":\"#1f77b4\"},\"inner_radius\":{\"units\":\"data\",\"value\":90},\"line_alpha\":{\"value\":0.1},\"line_color\":{\"value\":\"#1f77b4\"},\"outer_radius\":{\"field\":\"outer_radius\",\"units\":\"data\"},\"start_angle\":{\"field\":\"start_angle\",\"units\":\"rad\"},\"x\":{\"value\":0},\"y\":{\"value\":0}},\"id\":\"7e0eec73-bead-44d2-8a6f-d80271f8b4ae\",\"type\":\"AnnularWedge\"},{\"attributes\":{\"data_source\":{\"id\":\"5e5689f5-360f-49cb-9bf9-6986062086fe\",\"type\":\"ColumnDataSource\"},\"glyph\":{\"id\":\"6b9898c4-9ae6-4016-8e96-08e2674da873\",\"type\":\"Text\"},\"hover_glyph\":null,\"nonselection_glyph\":{\"id\":\"44ba3278-0b70-4026-99c4-005afccf458d\",\"type\":\"Text\"},\"selection_glyph\":null},\"id\":\"eb738131-e959-472e-98f0-a10ca46904ba\",\"type\":\"GlyphRenderer\"},{\"attributes\":{\"plot\":{\"id\":\"250eaea8-5d96-48b1-b7d6-20f682bb8068\",\"subtype\":\"Figure\",\"type\":\"Plot\"}},\"id\":\"5863afd5-5b33-4c87-a580-2ae136a47bee\",\"type\":\"ResetTool\"},{\"attributes\":{\"text_alpha\":{\"value\":0.1},\"text_baseline\":\"middle\",\"text_color\":{\"value\":\"black\"},\"text_font_size\":{\"value\":\"7pt\"},\"x\":{\"field\":\"x\"},\"y\":{\"field\":\"y\"}},\"id\":\"ba928cd6-3b4d-4d6f-b471-168593b3074c\",\"type\":\"Text\"},{\"attributes\":{\"callback\":null,\"column_names\":[\"x\",\"y\",\"text\"],\"data\":{\"text\":[\"Gram-negative\",\"Gram-positive\"],\"x\":[-30,-30],\"y\":[-370,-390]}},\"id\":\"89008479-8588-4048-92ef-b584ae57df15\",\"type\":\"ColumnDataSource\"},{\"attributes\":{\"text_alpha\":{\"value\":0.1},\"text_baseline\":\"middle\",\"text_color\":{\"value\":\"black\"},\"text_font_size\":{\"value\":\"9pt\"},\"x\":{\"field\":\"x\"},\"y\":{\"field\":\"y\"}},\"id\":\"44ba3278-0b70-4026-99c4-005afccf458d\",\"type\":\"Text\"},{\"attributes\":{\"data_source\":{\"id\":\"89008479-8588-4048-92ef-b584ae57df15\",\"type\":\"ColumnDataSource\"},\"glyph\":{\"id\":\"7b84ad9b-e0e4-448d-b081-049e30c5a58a\",\"type\":\"Text\"},\"hover_glyph\":null,\"nonselection_glyph\":{\"id\":\"ba928cd6-3b4d-4d6f-b471-168593b3074c\",\"type\":\"Text\"},\"selection_glyph\":null},\"id\":\"aa0eb69d-7e63-4c71-9d52-7bb1821bc6f1\",\"type\":\"GlyphRenderer\"},{\"attributes\":{\"fill_alpha\":{\"value\":0.1},\"fill_color\":{\"value\":\"#1f77b4\"},\"height\":{\"units\":\"data\",\"value\":13},\"line_alpha\":{\"value\":0.1},\"line_color\":{\"value\":\"#1f77b4\"},\"width\":{\"units\":\"data\",\"value\":30},\"x\":{\"field\":\"x\"},\"y\":{\"field\":\"y\"}},\"id\":\"3789a0c7-a7d6-480c-a11c-f78b76b80cfd\",\"type\":\"Rect\"},{\"attributes\":{\"callback\":null,\"end\":420,\"start\":-420},\"id\":\"daf69ef3-7125-4cef-9434-62a26d6765bd\",\"type\":\"Range1d\"},{\"attributes\":{\"data_source\":{\"id\":\"7d5a4e80-f20a-4e5a-bdfb-41c87d070ba3\",\"type\":\"ColumnDataSource\"},\"glyph\":{\"id\":\"5d095710-c0e8-47d7-9f8b-eb3a5daa1119\",\"type\":\"Text\"},\"hover_glyph\":null,\"nonselection_glyph\":{\"id\":\"419befec-30d9-4f5c-bc66-f8b14a0e14a6\",\"type\":\"Text\"},\"selection_glyph\":null},\"id\":\"fb446981-7d03-4a31-97c2-8a45bdde11a7\",\"type\":\"GlyphRenderer\"},{\"attributes\":{\"callback\":null,\"column_names\":[\"end_angle\",\"start_angle\",\"outer_radius\"],\"data\":{\"end_angle\":[1.3331968824057525,0.9635977466893062,0.5939986109728601,0.2243994752564139,-0.1451996604600324,-0.5147987961764788,-0.8843979318929249,-1.2539970676093715,-1.6235962033258176,-1.9931953390422634,-2.3627944747587097,-2.732393610475156,-3.101992746191602,-3.471591881908048,-3.8411910176244954,-4.210790153340941],\"outer_radius\":[92.23339948031361,139.7867850155062,154.38766386903586,91.62507700950238,168.47495629784697,91.62507700950238,113.85069566245176,168.47495629784697,91.39201867367399,290.0,168.47495629784697,220.2583199527764,246.45224684191624,290.0,253.12378014254972,253.12378014254972],\"start_angle\":[1.2803970058748317,0.9107978701583854,0.5411987344419392,0.17159959872549302,-0.1979995369909533,-0.5675986727073996,-0.9371978084238457,-1.3067969441402922,-1.6763960798567383,-2.045995215573184,-2.4155943512896307,-2.785193487006077,-3.154792622722523,-3.524391758438969,-3.8939908941554164,-4.263590029871862]}},\"id\":\"93953813-d63d-49cd-8bd0-06c469453fb5\",\"type\":\"ColumnDataSource\"},{\"attributes\":{\"text_align\":\"center\",\"text_alpha\":{\"value\":0.1},\"text_baseline\":\"middle\",\"text_color\":{\"value\":\"black\"},\"text_font_size\":{\"value\":\"8pt\"},\"x\":{\"value\":0},\"y\":{\"field\":\"y\"}},\"id\":\"419befec-30d9-4f5c-bc66-f8b14a0e14a6\",\"type\":\"Text\"},{\"attributes\":{\"fill_color\":{\"field\":\"fill_color\"},\"line_color\":{\"field\":\"line_color\"},\"radius\":{\"units\":\"data\",\"value\":5},\"x\":{\"field\":\"x\"},\"y\":{\"field\":\"y\"}},\"id\":\"9c6c75b1-f732-4d39-9ae0-f6284cc38456\",\"type\":\"Circle\"},{\"attributes\":{\"end_angle\":{\"field\":\"end_angle\",\"units\":\"rad\"},\"fill_color\":{\"value\":\"black\"},\"inner_radius\":{\"units\":\"data\",\"value\":80},\"outer_radius\":{\"units\":\"data\",\"value\":300},\"start_angle\":{\"field\":\"start_angle\",\"units\":\"rad\"},\"x\":{\"value\":0},\"y\":{\"value\":0}},\"id\":\"cf6113e9-9bd1-46cd-a3a3-d5e7ce7a4914\",\"type\":\"AnnularWedge\"},{\"attributes\":{\"fill_alpha\":{\"value\":0.1},\"fill_color\":{\"value\":\"#1f77b4\"},\"line_alpha\":{\"value\":0.1},\"line_color\":{\"value\":\"#1f77b4\"},\"radius\":{\"units\":\"data\",\"value\":5},\"x\":{\"field\":\"x\"},\"y\":{\"field\":\"y\"}},\"id\":\"2ce167a0-68dd-45f6-92b4-bc5b2fdc771a\",\"type\":\"Circle\"},{\"attributes\":{\"callback\":null,\"column_names\":[\"radius\"],\"data\":{\"radius\":[290.0,239.66267873058516,201.03749361799578,168.47495629784697,139.7867850155062,113.85069566245176,90.0]}},\"id\":\"a0648359-3e28-402c-89aa-5315fcda8faa\",\"type\":\"ColumnDataSource\"},{\"attributes\":{\"end_angle\":{\"field\":\"end_angle\",\"units\":\"rad\"},\"fill_color\":{\"value\":\"#0d3362\"},\"inner_radius\":{\"units\":\"data\",\"value\":90},\"line_color\":{\"value\":\"#0d3362\"},\"outer_radius\":{\"field\":\"outer_radius\",\"units\":\"data\"},\"start_angle\":{\"field\":\"start_angle\",\"units\":\"rad\"},\"x\":{\"value\":0},\"y\":{\"value\":0}},\"id\":\"c231db8a-974d-4085-91e7-ce306868779c\",\"type\":\"AnnularWedge\"},{\"attributes\":{\"data_source\":{\"id\":\"ad13b514-2f95-4720-9709-b8be2eb1d375\",\"type\":\"ColumnDataSource\"},\"glyph\":{\"id\":\"b159394c-806e-45a0-a1ab-fb72b9108212\",\"type\":\"Text\"},\"hover_glyph\":null,\"nonselection_glyph\":{\"id\":\"f0dfbfd3-0e26-4543-b7d9-303181d06a1a\",\"type\":\"Text\"},\"selection_glyph\":null},\"id\":\"709a3033-82ad-4c1e-badb-bd357f8511d2\",\"type\":\"GlyphRenderer\"},{\"attributes\":{\"fill_alpha\":{\"value\":0.1},\"fill_color\":{\"value\":\"#1f77b4\"},\"line_alpha\":{\"value\":0.1},\"line_color\":{\"value\":\"#1f77b4\"},\"radius\":{\"field\":\"radius\",\"units\":\"data\"},\"x\":{\"value\":0},\"y\":{\"value\":0}},\"id\":\"04642a8b-6f5b-46c0-8da3-49c3d0420fd6\",\"type\":\"Circle\"},{\"attributes\":{\"plot\":{\"id\":\"250eaea8-5d96-48b1-b7d6-20f682bb8068\",\"subtype\":\"Figure\",\"type\":\"Plot\"}},\"id\":\"708e6379-5785-4848-8dc2-6ed024ee3727\",\"type\":\"WheelZoomTool\"},{\"attributes\":{\"plot\":{\"id\":\"250eaea8-5d96-48b1-b7d6-20f682bb8068\",\"subtype\":\"Figure\",\"type\":\"Plot\"}},\"id\":\"2797235b-5aa9-4228-a4fa-e95ded1eefd6\",\"type\":\"HelpTool\"}],\"root_ids\":[\"250eaea8-5d96-48b1-b7d6-20f682bb8068\"]},\"title\":\"Bokeh Application\",\"version\":\"0.12.0\"}};\n",
       "            var render_items = [{\"docid\":\"25e55287-cb9f-4f3d-aa1d-fda6e93cb972\",\"elementid\":\"147b83c3-df92-402e-8d64-d9392e37854c\",\"modelid\":\"250eaea8-5d96-48b1-b7d6-20f682bb8068\",\"notebook_comms_target\":\"8f628d39-400d-4f0c-bac0-10c3f171faee\"}];\n",
       "            \n",
       "            Bokeh.embed.embed_items(docs_json, render_items);\n",
       "        });\n",
       "      },\n",
       "      function(Bokeh) {\n",
       "      }\n",
       "    ];\n",
       "  \n",
       "    function run_inline_js() {\n",
       "      for (var i = 0; i < inline_js.length; i++) {\n",
       "        inline_js[i](window.Bokeh);\n",
       "      }\n",
       "    }\n",
       "  \n",
       "    if (window._bokeh_is_loading === 0) {\n",
       "      console.log(\"Bokeh: BokehJS loaded, going straight to plotting\");\n",
       "      run_inline_js();\n",
       "    } else {\n",
       "      load_libs(js_urls, function() {\n",
       "        console.log(\"Bokeh: BokehJS plotting callback run at\", now());\n",
       "        run_inline_js();\n",
       "      });\n",
       "    }\n",
       "  }(this));\n",
       "</script>"
      ]
     },
     "metadata": {},
     "output_type": "display_data"
    },
    {
     "data": {
      "text/html": [
       "<p><code>&lt;Bokeh Notebook handle for <strong>In[19]</strong>&gt;</code></p>"
      ],
      "text/plain": [
       "<bokeh.io._CommsHandle at 0x10dad9c18>"
      ]
     },
     "execution_count": 19,
     "metadata": {},
     "output_type": "execute_result"
    }
   ],
   "source": [
    "show(p)"
   ]
  },
  {
   "cell_type": "code",
   "execution_count": null,
   "metadata": {
    "collapsed": false
   },
   "outputs": [],
   "source": []
  }
 ],
 "metadata": {
  "kernelspec": {
   "display_name": "Python 3",
   "language": "python",
   "name": "python3"
  },
  "language_info": {
   "codemirror_mode": {
    "name": "ipython",
    "version": 3
   },
   "file_extension": ".py",
   "mimetype": "text/x-python",
   "name": "python",
   "nbconvert_exporter": "python",
   "pygments_lexer": "ipython3",
   "version": "3.4.5"
  }
 },
 "nbformat": 4,
 "nbformat_minor": 0
}
