{
 "cells": [
  {
   "cell_type": "markdown",
   "metadata": {},
   "source": [
    "Ad-hoc computations with Futures\n",
    "------------------------------------\n",
    "\n",
    "While many parallel applications can be described as maps, some can be more complex.\n",
    "In this section we look at the asynchronous Future interface,\n",
    "which provides a simple API for ad-hoc parallelism.\n",
    "This is useful for when your computations don't fit a regular pattern.\n",
    "\n",
    "### Objectives\n",
    "\n",
    "*  Use the `concurrent.futures` function `submit` to perform ad-hoc parallel computing\n",
    "\n",
    "### Requirements\n",
    "\n",
    "*  Pandas\n",
    "*  concurrent.futures (standard in Python 3, `pip install futures` in Python 2)\n",
    "\n",
    "\n",
    "    pip install snakeviz\n",
    "    pip install futures"
   ]
  },
  {
   "cell_type": "markdown",
   "metadata": {},
   "source": [
    "### Application\n",
    "\n",
    "Given our HDF5 files from the last section we want to find the two datasets with the greatest pair-wise correlation.  This forces us to consider all $n\\times(n-1)$ possibilities.\n",
    "\n",
    "As before we start with a sequential solution."
   ]
  },
  {
   "cell_type": "code",
   "execution_count": 4,
   "metadata": {
    "collapsed": false
   },
   "outputs": [
    {
     "data": {
      "text/plain": [
       "['data/json/aa.h5',\n",
       " 'data/json/aapl.h5',\n",
       " 'data/json/abc.h5',\n",
       " 'data/json/aig.h5',\n",
       " 'data/json/amgn.h5']"
      ]
     },
     "execution_count": 4,
     "metadata": {},
     "output_type": "execute_result"
    }
   ],
   "source": [
    "from glob import glob\n",
    "import pandas as pd\n",
    "import os\n",
    "\n",
    "filenames = sorted(glob(os.path.join('data', 'json', '*.h5')))  # ../data/json/*.json\n",
    "filenames[:5]"
   ]
  },
  {
   "cell_type": "code",
   "execution_count": 5,
   "metadata": {
    "collapsed": true
   },
   "outputs": [],
   "source": [
    "series = {}\n",
    "for fn in filenames:\n",
    "    series[fn] = pd.read_hdf(fn)['close']"
   ]
  },
  {
   "cell_type": "code",
   "execution_count": 6,
   "metadata": {
    "collapsed": false
   },
   "outputs": [
    {
     "name": "stdout",
     "output_type": "stream",
     "text": [
      "data/json/abc.h5 matches with data/json/yhoo.h5 with correlation 0.985601\n",
      "CPU times: user 1.07 s, sys: 8.67 ms, total: 1.08 s\n",
      "Wall time: 1.08 s\n"
     ]
    }
   ],
   "source": [
    "%%time\n",
    "\n",
    "results = {}\n",
    "\n",
    "for a in filenames:\n",
    "    for b in filenames:\n",
    "        if a != b:\n",
    "            results[a, b] = series[a].corr(series[b])\n",
    "            \n",
    "((a, b), corr) = max(results.items(), key=lambda kv: kv[1])\n",
    "print(\"%s matches with %s with correlation %f\" % (a, b, corr))"
   ]
  },
  {
   "cell_type": "markdown",
   "metadata": {},
   "source": [
    "### Visually inspect correlated series\n",
    "\n",
    "We use matplotlib to visually inspect the highly correlated timeseries"
   ]
  },
  {
   "cell_type": "code",
   "execution_count": 7,
   "metadata": {
    "collapsed": false
   },
   "outputs": [
    {
     "data": {
      "image/png": "[encoded data removed]",
      "text/plain": [
       "<matplotlib.figure.Figure at 0x11b22c828>"
      ]
     },
     "metadata": {},
     "output_type": "display_data"
    }
   ],
   "source": [
    "%matplotlib inline\n",
    "from matplotlib import pyplot as plt\n",
    "plt.figure(figsize=(10, 4))\n",
    "plt.plot(series[a] / series[a].max())\n",
    "plt.plot(series[b] / series[b].max())\n",
    "plt.xticks(visible=False);"
   ]
  },
  {
   "cell_type": "markdown",
   "metadata": {},
   "source": [
    "### Analysis\n",
    "\n",
    "This computation starts out with an embarrassingly parallel part loading data from disk:\n",
    "\n",
    "```python\n",
    "series = {}\n",
    "for fn in filenames:\n",
    "    series[fn] = pd.read_hdf(fn)['x']\n",
    "```\n",
    "\n",
    "It follows with a doubly nested for loop with an if statement.  \n",
    "\n",
    "```python\n",
    "results = {}\n",
    "\n",
    "for a in filenames:\n",
    "    for b in filenames:\n",
    "        if a != b:\n",
    "            results[a, b] = series[a].corr(series[b])\n",
    "```\n",
    "\n",
    "It *is* possible to solve this problem with `map`, but it requires some cleverness.  Instead we'll learn `submit`, an interface to start individual function calls asynchronously.\n",
    "\n",
    "It finishes with a reduction on small data.  We're not going to care about parallelizing this (it's already very fast.)\n",
    "\n",
    "```python\n",
    "((a, b), corr) = max(results.items(), key=lambda kv: kv[1])\n",
    "```"
   ]
  },
  {
   "cell_type": "markdown",
   "metadata": {},
   "source": [
    "### Executor.submit\n",
    "\n",
    "The `submit` method starts a computation in a separate thread or process and immediately gives us a `Future` object that refers to the result.  At first, the future is pending.  Once the function completes the future is finished. \n",
    "\n",
    "We collect the result of the task with the `.result()` method,\n",
    "which does not return until the results are available."
   ]
  },
  {
   "cell_type": "code",
   "execution_count": 5,
   "metadata": {
    "collapsed": false
   },
   "outputs": [
    {
     "data": {
      "text/plain": [
       "<Future at 0x123003e48 state=running>"
      ]
     },
     "execution_count": 5,
     "metadata": {},
     "output_type": "execute_result"
    }
   ],
   "source": [
    "from concurrent.futures import ThreadPoolExecutor\n",
    "e = ThreadPoolExecutor(4)\n",
    "\n",
    "from time import sleep\n",
    "\n",
    "def slowadd(a, b, delay=1):\n",
    "    sleep(delay)\n",
    "    return a + b\n",
    "\n",
    "future = e.submit(slowadd, 1, 2)\n",
    "future"
   ]
  },
  {
   "cell_type": "code",
   "execution_count": 6,
   "metadata": {
    "collapsed": false
   },
   "outputs": [
    {
     "data": {
      "text/plain": [
       "3"
      ]
     },
     "execution_count": 6,
     "metadata": {},
     "output_type": "execute_result"
    }
   ],
   "source": [
    "future.result()"
   ]
  },
  {
   "cell_type": "markdown",
   "metadata": {},
   "source": [
    "### Submit many tasks, receive many futures\n",
    "\n",
    "Because submit returns immediately we can submit many tasks all at once and they will execute in parallel."
   ]
  },
  {
   "cell_type": "code",
   "execution_count": 7,
   "metadata": {
    "collapsed": false
   },
   "outputs": [
    {
     "name": "stdout",
     "output_type": "stream",
     "text": [
      "CPU times: user 1 ms, sys: 1.17 ms, total: 2.17 ms\n",
      "Wall time: 10 s\n"
     ]
    }
   ],
   "source": [
    "%%time\n",
    "results = [slowadd(i, i, delay=1) for i in range(10)]"
   ]
  },
  {
   "cell_type": "code",
   "execution_count": 8,
   "metadata": {
    "collapsed": false
   },
   "outputs": [
    {
     "name": "stdout",
     "output_type": "stream",
     "text": [
      "CPU times: user 2.06 ms, sys: 1.7 ms, total: 3.76 ms\n",
      "Wall time: 3.01 s\n"
     ]
    }
   ],
   "source": [
    "%%time\n",
    "futures = [e.submit(slowadd, 1, 1, delay=1) for i in range(10)]\n",
    "results = [f.result() for f in futures]"
   ]
  },
  {
   "cell_type": "markdown",
   "metadata": {},
   "source": [
    "### Submit different tasks\n",
    "\n",
    "The virtue of submit is that you can submit different functions and you can perform a bit of logic on each input."
   ]
  },
  {
   "cell_type": "markdown",
   "metadata": {},
   "source": [
    "### Example\n",
    "\n",
    "#### no parallelization"
   ]
  },
  {
   "cell_type": "code",
   "execution_count": 9,
   "metadata": {
    "collapsed": false
   },
   "outputs": [
    {
     "name": "stdout",
     "output_type": "stream",
     "text": [
      "CPU times: user 1.6 ms, sys: 1.71 ms, total: 3.31 ms\n",
      "Wall time: 20.1 s\n"
     ]
    }
   ],
   "source": [
    "%%time\n",
    "\n",
    "### Sequential Version\n",
    "\n",
    "def slowadd(a, b, delay=1):\n",
    "    sleep(delay)\n",
    "    return a + b\n",
    "\n",
    "def slowsub(a, b, delay=1):\n",
    "    sleep(delay)\n",
    "    return a - b\n",
    "\n",
    "results = []\n",
    "for i in range(5):\n",
    "    for j in range(5):\n",
    "        if i < j:\n",
    "            results.append(slowadd(i, j, delay=1))\n",
    "        elif i > j:\n",
    "            results.append(slowsub(i, j, delay=1))"
   ]
  },
  {
   "cell_type": "markdown",
   "metadata": {},
   "source": [
    "#### with parallelization "
   ]
  },
  {
   "cell_type": "code",
   "execution_count": 10,
   "metadata": {
    "collapsed": false
   },
   "outputs": [
    {
     "name": "stdout",
     "output_type": "stream",
     "text": [
      "CPU times: user 1.95 ms, sys: 1.84 ms, total: 3.79 ms\n",
      "Wall time: 5.01 s\n"
     ]
    }
   ],
   "source": [
    "%%time\n",
    "\n",
    "def slowadd(a, b, delay=1):\n",
    "    sleep(delay)\n",
    "    return a + b\n",
    "\n",
    "def slowsub(a, b, delay=1):\n",
    "    sleep(delay)\n",
    "    return a - b\n",
    "\n",
    "futures = []\n",
    "for i in range(5):\n",
    "    for j in range(5):\n",
    "        if i < j:\n",
    "            futures.append(e.submit(slowadd, i, j, delay=1))\n",
    "        elif i > j:\n",
    "            futures.append(e.submit(slowsub, i, j, delay=1))\n",
    "\n",
    "results = [f.result() for f in futures]"
   ]
  },
  {
   "cell_type": "markdown",
   "metadata": {},
   "source": [
    "### Conclusion on submit\n",
    "\n",
    "*  Submit fires off a single function call in the background, returning a future.  \n",
    "*  When we combine submit with a single for loop we recover the functionality of map.  \n",
    "*  When we want to collect our results we replace each of our futures, `f`, with a call to `f.result()`\n",
    "*  We can combine submit with multiple for loops and other general programming to get something more general than map.\n"
   ]
  },
  {
   "cell_type": "markdown",
   "metadata": {},
   "source": [
    "### Example: Parallelize pair-wise correlations with `e.submit`\n"
   ]
  },
  {
   "cell_type": "code",
   "execution_count": 8,
   "metadata": {
    "collapsed": false
   },
   "outputs": [
    {
     "name": "stdout",
     "output_type": "stream",
     "text": [
      "CPU times: user 1.08 s, sys: 6.4 ms, total: 1.08 s\n",
      "Wall time: 1.08 s\n"
     ]
    }
   ],
   "source": [
    "%%time\n",
    "\n",
    "### Sequential Code\n",
    "\n",
    "results = {}\n",
    "\n",
    "for a in filenames:\n",
    "    for b in filenames:\n",
    "        if a != b:\n",
    "            results[a, b] = series[a].corr(series[b])"
   ]
  },
  {
   "cell_type": "code",
   "execution_count": 9,
   "metadata": {
    "collapsed": false
   },
   "outputs": [
    {
     "name": "stdout",
     "output_type": "stream",
     "text": [
      "CPU times: user 1.58 s, sys: 95.9 ms, total: 1.67 s\n",
      "Wall time: 553 ms\n"
     ]
    }
   ],
   "source": [
    "%%time\n",
    "\n",
    "from concurrent.futures import ThreadPoolExecutor\n",
    "e = ThreadPoolExecutor(4)\n",
    "\n",
    "def corr(a, b):\n",
    "    return a.corr(b)\n",
    "\n",
    "futures = {}\n",
    "\n",
    "for a in filenames:\n",
    "    for b in filenames:\n",
    "        if a != b:\n",
    "            futures[a, b] = e.submit(corr, series[a], series[b])\n",
    "\n",
    "results = {k: v.result() for k, v in futures.items()}"
   ]
  },
  {
   "cell_type": "markdown",
   "metadata": {},
   "source": [
    "Conclusion\n",
    "-----------\n",
    "\n",
    "*  We learned how `e.submit` can help us to parallelize more complex applications\n",
    "*  We used `e.submit` to compute pairwise collelations in parallel\n",
    "*  We learned that this didn't actually speed up our code very much"
   ]
  },
  {
   "cell_type": "code",
   "execution_count": null,
   "metadata": {
    "collapsed": true
   },
   "outputs": [],
   "source": []
  }
 ],
 "metadata": {
  "anaconda-cloud": {},
  "kernelspec": {
   "display_name": "Python 3",
   "language": "python",
   "name": "python3"
  },
  "language_info": {
   "codemirror_mode": {
    "name": "ipython",
    "version": 3
   },
   "file_extension": ".py",
   "mimetype": "text/x-python",
   "name": "python",
   "nbconvert_exporter": "python",
   "pygments_lexer": "ipython3",
   "version": "3.5.1"
  }
 },
 "nbformat": 4,
 "nbformat_minor": 1
}
